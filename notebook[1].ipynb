<!doctype html><html lang="en"><head><meta charset="utf-8"><title>JupyterLab</title><meta name="viewport" content="width=device-width,initial-scale=1">   <script id="jupyter-config-data" type="application/json">{"appName": "JupyterLab", "appNamespace": "lab", "appSettingsDir": "/usr/local/share/jupyter/lab/settings", "appUrl": "/lab", "appVersion": "3.1.4", "baseUrl": "/proxy/absolute/2a0aba76-ca5c-4fe2-821c-c19e52202c96/", "buildAvailable": true, "buildCheck": true, "cacheFiles": false, "collaborative": false, "devMode": false, "disabledExtensions": [], "exposeAppInBrowser": false, "extraLabextensionsPath": [], "federated_extensions": [{"extension": "./extension", "load": "static/remoteEntry.667a4f2400cb3e16288f.js", "mimeExtension": "./mimeExtension", "name": "jupyterlab-plotly"}, {"extension": "./extension", "load": "static/remoteEntry.ca1efc27dc965162ca86.js", "name": "@jupyter-widgets/jupyterlab-manager"}], "fullAppUrl": "/proxy/absolute/2a0aba76-ca5c-4fe2-821c-c19e52202c96/lab", "fullLabextensionsUrl": "/proxy/absolute/2a0aba76-ca5c-4fe2-821c-c19e52202c96/lab/extensions", "fullLicensesUrl": "/proxy/absolute/2a0aba76-ca5c-4fe2-821c-c19e52202c96/lab/api/licenses", "fullListingsUrl": "/proxy/absolute/2a0aba76-ca5c-4fe2-821c-c19e52202c96/lab/api/listings", "fullMathjaxUrl": "/proxy/absolute/2a0aba76-ca5c-4fe2-821c-c19e52202c96/static/notebook/components/MathJax/MathJax.js", "fullSettingsUrl": "/proxy/absolute/2a0aba76-ca5c-4fe2-821c-c19e52202c96/lab/api/settings", "fullStaticUrl": "https://collab-cdn.datacamp.com/jupyterlab/v1/static", "fullThemesUrl": "/proxy/absolute/2a0aba76-ca5c-4fe2-821c-c19e52202c96/lab/api/themes", "fullTranslationsApiUrl": "/proxy/absolute/2a0aba76-ca5c-4fe2-821c-c19e52202c96/lab/api/translations", "fullTreeUrl": "/proxy/absolute/2a0aba76-ca5c-4fe2-821c-c19e52202c96/lab/tree", "fullWorkspacesApiUrl": "/proxy/absolute/2a0aba76-ca5c-4fe2-821c-c19e52202c96/lab/api/workspaces", "ignorePlugins": [], "labextensionsPath": ["/home/repl/.local/share/jupyter/labextensions", "/usr/local/share/jupyter/labextensions", "/usr/share/jupyter/labextensions"], "labextensionsUrl": "/lab/extensions", "licensesUrl": "/lab/api/licenses", "listingsUrl": "/lab/api/listings", "mathjaxConfig": "TeX-AMS-MML_HTMLorMML-full,Safe", "mode": "single-document", "notebookVersion": "[1, 10, 2]", "preferredDir": "/home/repl/workspace", "preferredPath": "", "quitButton": true, "schemasDir": "/usr/local/share/jupyter/lab/schemas", "serverRoot": "~/workspace", "settingsUrl": "/lab/api/settings", "staticDir": "/usr/local/share/jupyter/lab/static", "store_id": 2, "templatesDir": "/usr/local/share/jupyter/lab/static", "terminalsAvailable": true, "themesDir": "/usr/local/share/jupyter/lab/themes", "themesUrl": "/lab/api/themes", "token": "", "translationsApiUrl": "/lab/api/translations", "treePath": "notebook.ipynb", "treeUrl": "/lab/tree", "userSettingsDir": "/home/repl/.jupyter/lab/user-settings", "workspace": "default", "workspacesApiUrl": "/lab/api/workspaces", "workspacesDir": "/home/repl/.jupyter/lab/workspaces", "wsUrl": ""}</script><link rel="icon" type="image/x-icon" href="/proxy/absolute/2a0aba76-ca5c-4fe2-821c-c19e52202c96/static/favicons/favicon.ico" class="idle favicon"><link rel="" type="image/x-icon" href="/proxy/absolute/2a0aba76-ca5c-4fe2-821c-c19e52202c96/static/favicons/favicon-busy-1.ico" class="busy favicon"><script defer="defer" src="https://collab-cdn.datacamp.com/jupyterlab/v1/static/main.ebe7715c3db7c91aab29.js?v=ebe7715c3db7c91aab29"></script></head><body><script>/* Remove token from URL. */
  (function () {
    var location = window.location;
    var search = location.search;

    // If there is no query string, bail.
    if (search.length <= 1) {
      return;
    }

    // Rebuild the query string without the `token`.
    var query = '?' + search.slice(1).split('&')
      .filter(function (param) { return param.split('=')[0] !== 'token'; })
      .join('&');

    // Rebuild the URL with the new query string.
    var url = location.origin + location.pathname +
      (query !== '?' ? query : '') + location.hash;

    if (url === location.href) {
      return;
    }

    window.history.replaceState({ }, '', url);
  })();</script></body></html>